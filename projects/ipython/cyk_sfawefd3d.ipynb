{
 "cells": [
  {
   "cell_type": "code",
   "execution_count": 1,
   "metadata": {
    "collapsed": true
   },
   "outputs": [],
   "source": [
    "import numpy as np\n",
    "import matplotlib.pyplot as plt\n",
    "from numpy.linalg import norm\n",
    "import os\n",
    "\n",
    "%matplotlib inline"
   ]
  },
  {
   "cell_type": "code",
   "execution_count": 2,
   "metadata": {
    "collapsed": true
   },
   "outputs": [],
   "source": [
    "def ricker(t, f):\n",
    "    w = 2.0 * np.pi * f\n",
    "    v = w**2 * t**2\n",
    "    return (1.0 - 0.5 * v) * np.exp(-0.25 * v)"
   ]
  },
  {
   "cell_type": "code",
   "execution_count": 3,
   "metadata": {
    "collapsed": true
   },
   "outputs": [],
   "source": [
    "N = 1000\n",
    "T = 1.0\n",
    "dt = T / N\n",
    "t = np.linspace(0.0, T, N)\n",
    "f = 5.0\n",
    "shift = -0.24"
   ]
  },
  {
   "cell_type": "code",
   "execution_count": 4,
   "metadata": {
    "collapsed": false
   },
   "outputs": [
    {
     "data": {
      "text/plain": [
       "[<matplotlib.lines.Line2D at 0x10eb62790>]"
      ]
     },
     "execution_count": 4,
     "metadata": {},
     "output_type": "execute_result"
    },
    {
     "data": {
      "image/png": "[encoded data removed]",
      "text/plain": [
       "<matplotlib.figure.Figure at 0x109cce290>"
      ]
     },
     "metadata": {},
     "output_type": "display_data"
    }
   ],
   "source": [
    "plt.plot(t, ricker(t+shift, f))"
   ]
  },
  {
   "cell_type": "code",
   "execution_count": 5,
   "metadata": {
    "collapsed": false
   },
   "outputs": [
    {
     "ename": "SyntaxError",
     "evalue": "invalid syntax (<ipython-input-5-ff429c669b26>, line 1)",
     "output_type": "error",
     "traceback": [
      "\u001b[0;36m  File \u001b[0;32m\"<ipython-input-5-ff429c669b26>\"\u001b[0;36m, line \u001b[0;32m1\u001b[0m\n\u001b[0;31m    Let uo consider Green's function for wave equation in a free-space, that is\u001b[0m\n\u001b[0m         ^\u001b[0m\n\u001b[0;31mSyntaxError\u001b[0m\u001b[0;31m:\u001b[0m invalid syntax\n"
     ]
    }
   ],
   "source": [
    "Let uo consider Green's function for wave equation in a free-space, that is\n",
    "G(x,x′,t,t′)=δ((t−t′)−|r−r′|c)4π|r−r′|,\n",
    "and the solution for point source with the source wavelet S(t), source position r′=(x′,y′,z′), receiver position at r=(x,y,z)\n",
    "uG(R,τ)=S(τ−R/c)4πR,\n",
    "where\n",
    "τ=t−t′,R=|r−r′|."
   ]
  },
  {
   "cell_type": "code",
   "execution_count": 6,
   "metadata": {
    "collapsed": true
   },
   "outputs": [],
   "source": [
    "np.savetxt('impulse.txt', ricker(t+shift, f), fmt='%1.7e')"
   ]
  },
  {
   "cell_type": "code",
   "execution_count": 7,
   "metadata": {
    "collapsed": true
   },
   "outputs": [],
   "source": [
    "def u_G(t, f, r, s, c):\n",
    "    N = t.shape[0]\n",
    "    d1 = norm(r - s)\n",
    "    dt = t - d1 / c\n",
    "    return ricker(dt, f) / (4.0 * np.pi * d1)"
   ]
  },
  {
   "cell_type": "code",
   "execution_count": 8,
   "metadata": {
    "collapsed": true
   },
   "outputs": [],
   "source": [
    "s = np.array([0.0, 0.0, 50.0])\n",
    "r = np.array([100.0, 0.0, 50.0])\n",
    "c = 4000.0"
   ]
  },
  {
   "cell_type": "code",
   "execution_count": 9,
   "metadata": {
    "collapsed": false
   },
   "outputs": [
    {
     "data": {
      "text/plain": [
       "[<matplotlib.lines.Line2D at 0x10f22f090>]"
      ]
     },
     "execution_count": 9,
     "metadata": {},
     "output_type": "execute_result"
    },
    {
     "data": {
      "image/png": "[encoded data removed]",
      "text/plain": [
       "<matplotlib.figure.Figure at 0x10eb97210>"
      ]
     },
     "metadata": {},
     "output_type": "display_data"
    }
   ],
   "source": [
    "plt.plot(t, u_G(t+shift, f, r, s, c))"
   ]
  },
  {
   "cell_type": "code",
   "execution_count": 10,
   "metadata": {
    "collapsed": true
   },
   "outputs": [],
   "source": [
    "h = 10\n",
    "nx = 200\n",
    "ny = 200\n",
    "nz = 200\n",
    "ox = -1000\n",
    "oy = -1000\n",
    "oz = -1000"
   ]
  },
  {
   "cell_type": "code",
   "execution_count": 11,
   "metadata": {
    "collapsed": true
   },
   "outputs": [],
   "source": [
    "def madagascar(free='n'):\n",
    "    cmd = 'sfmath > vel.rsf output=%s n1=%s n2=%s n3=%s d1=%s d2=%s d3=%s o2=%s o3=%s o1=%s' % (c, nz, ny, nx, h, h, h, oy, ox, oz)\n",
    "    print cmd\n",
    "    os.system(cmd)\n",
    "    os.system('sfspike n1=3 nsp=3 k1=1,2,3 mag=%s,%s,%s o1=0 o2=0 o3=0 > sou.rsf' % (s[0], s[1], s[2]))\n",
    "    os.system('sfspike n1=3 nsp=3 k1=1,2,3 mag=%s,%s,%s o1=0 o2=0 o3=0 > rec.rsf' % (r[0], r[1], r[2]))\n",
    "    os.system('echo in=impulse.txt n1=1 n2=%s data_format=ascii_float | sfdd form=native | sfput n1=1 n2=%s d2=%s o1=0 label1=\"Time\" unit1=\"s\" > impulse.rsf' % (N, N, dt))\n",
    "    cmd = 'sfawefd3d < impulse.rsf vel=vel.rsf sou=sou.rsf rec=rec.rsf > dat.rsf verb=y free=%s expl=n snap=y dabc=y jdata=1 jsnap=80000 nbell=1 sinc=y' % free\n",
    "    print cmd\n",
    "    os.system(cmd)\n",
    "    os.system('sfdisfil > dat.asc col=1 format=\"%e \" number=n < dat.rsf')"
   ]
  },
  {
   "cell_type": "code",
   "execution_count": 12,
   "metadata": {
    "collapsed": false
   },
   "outputs": [
    {
     "name": "stdout",
     "output_type": "stream",
     "text": [
      "sfmath > vel.rsf output=4000.0 n1=200 n2=200 n3=200 d1=10 d2=10 d3=10 o2=-1000 o3=-1000 o1=-1000\n",
      "sfawefd3d < impulse.rsf vel=vel.rsf sou=sou.rsf rec=rec.rsf > dat.rsf verb=y free=n expl=n snap=y dabc=y jdata=1 jsnap=80000 nbell=1 sinc=y\n"
     ]
    }
   ],
   "source": [
    "madagascar()"
   ]
  },
  {
   "cell_type": "code",
   "execution_count": 13,
   "metadata": {
    "collapsed": true
   },
   "outputs": [],
   "source": [
    "u_m = np.loadtxt('dat.asc') * c**2 / h**3\n",
    "u_g = u_G(t+shift, f, r, s, c)"
   ]
  },
  {
   "cell_type": "code",
   "execution_count": 14,
   "metadata": {
    "collapsed": false
   },
   "outputs": [
    {
     "data": {
      "text/plain": [
       "[<matplotlib.lines.Line2D at 0x10f0a6510>]"
      ]
     },
     "execution_count": 14,
     "metadata": {},
     "output_type": "execute_result"
    },
    {
     "data": {
      "image/png": "[encoded data removed]",
      "text/plain": [
       "<matplotlib.figure.Figure at 0x10f0b1dd0>"
      ]
     },
     "metadata": {},
     "output_type": "display_data"
    }
   ],
   "source": [
    "plt.plot(t, u_g)\n",
    "plt.plot(t, u_m)"
   ]
  },
  {
   "cell_type": "code",
   "execution_count": 15,
   "metadata": {
    "collapsed": false
   },
   "outputs": [
    {
     "data": {
      "text/plain": [
       "[<matplotlib.lines.Line2D at 0x10f2cfcd0>]"
      ]
     },
     "execution_count": 15,
     "metadata": {},
     "output_type": "execute_result"
    },
    {
     "data": {
      "image/png": "[encoded data removed]",
      "text/plain": [
       "<matplotlib.figure.Figure at 0x10f2c6750>"
      ]
     },
     "metadata": {},
     "output_type": "display_data"
    }
   ],
   "source": [
    "plt.plot(t, u_g)\n",
    "plt.plot(t, u_m)"
   ]
  },
  {
   "cell_type": "code",
   "execution_count": 16,
   "metadata": {
    "collapsed": false
   },
   "outputs": [
    {
     "name": "stdout",
     "output_type": "stream",
     "text": [
      "Error: 1.14209746458 %\n"
     ]
    }
   ],
   "source": [
    "err = norm(u_m-u_g)/norm(u_g)*100.0\n",
    "print 'Error: %s %%' % err"
   ]
  },
  {
   "cell_type": "code",
   "execution_count": 17,
   "metadata": {
    "collapsed": true
   },
   "outputs": [],
   "source": [
    "u_gf = u_G(t+shift, f, r, s, c) - u_G(t+shift, f, r, np.array([s[0], s[1], -s[2]]), c)"
   ]
  },
  {
   "cell_type": "code",
   "execution_count": 18,
   "metadata": {
    "collapsed": false
   },
   "outputs": [
    {
     "data": {
      "text/plain": [
       "[<matplotlib.lines.Line2D at 0x10f65ef10>]"
      ]
     },
     "execution_count": 18,
     "metadata": {},
     "output_type": "execute_result"
    },
    {
     "data": {
      "image/png": "[encoded data removed]",
      "text/plain": [
       "<matplotlib.figure.Figure at 0x10f523450>"
      ]
     },
     "metadata": {},
     "output_type": "display_data"
    }
   ],
   "source": [
    "plt.plot(t, u_gf)"
   ]
  },
  {
   "cell_type": "code",
   "execution_count": 19,
   "metadata": {
    "collapsed": true
   },
   "outputs": [],
   "source": [
    "h = 10.0\n",
    "nx = 200\n",
    "ny = 200\n",
    "nz = 100\n",
    "ox = -500\n",
    "oy = -500\n",
    "oz = h/2"
   ]
  },
  {
   "cell_type": "code",
   "execution_count": 20,
   "metadata": {
    "collapsed": false
   },
   "outputs": [
    {
     "name": "stdout",
     "output_type": "stream",
     "text": [
      "sfmath > vel.rsf output=4000.0 n1=100 n2=200 n3=200 d1=10.0 d2=10.0 d3=10.0 o2=-500 o3=-500 o1=5.0\n",
      "sfawefd3d < impulse.rsf vel=vel.rsf sou=sou.rsf rec=rec.rsf > dat.rsf verb=y free=y expl=n snap=y dabc=y jdata=1 jsnap=80000 nbell=1 sinc=y\n"
     ]
    }
   ],
   "source": [
    "madagascar('y')"
   ]
  },
  {
   "cell_type": "code",
   "execution_count": 21,
   "metadata": {
    "collapsed": false
   },
   "outputs": [
    {
     "data": {
      "text/plain": [
       "[<matplotlib.lines.Line2D at 0x10f577290>]"
      ]
     },
     "execution_count": 21,
     "metadata": {},
     "output_type": "execute_result"
    },
    {
     "data": {
      "image/png": "[encoded data removed]",
      "text/plain": [
       "<matplotlib.figure.Figure at 0x10f577710>"
      ]
     },
     "metadata": {},
     "output_type": "display_data"
    }
   ],
   "source": [
    "u_m = np.loadtxt('dat.asc') * c**2 / h**3\n",
    "plt.plot(t, u_gf)\n",
    "plt.plot(t, u_m)"
   ]
  },
  {
   "cell_type": "code",
   "execution_count": 22,
   "metadata": {
    "collapsed": false
   },
   "outputs": [
    {
     "name": "stdout",
     "output_type": "stream",
     "text": [
      "Error: 11.0365188586 % -> shift h/2 upward\n"
     ]
    }
   ],
   "source": [
    "err = norm(u_m-u_gf)/norm(u_gf)*100.0\n",
    "print 'Error: %s %% -> shift h/2 upward' % err"
   ]
  },
  {
   "cell_type": "code",
   "execution_count": 23,
   "metadata": {
    "collapsed": false
   },
   "outputs": [
    {
     "name": "stdout",
     "output_type": "stream",
     "text": [
      "sfmath > vel.rsf output=4000.0 n1=100 n2=200 n3=200 d1=10.0 d2=10.0 d3=10.0 o2=-500 o3=-500 o1=-5.0\n",
      "sfawefd3d < impulse.rsf vel=vel.rsf sou=sou.rsf rec=rec.rsf > dat.rsf verb=y free=y expl=n snap=y dabc=y jdata=1 jsnap=80000 nbell=1 sinc=y\n",
      "Error: 36.3814244595 % -> shift h/2 downward\n"
     ]
    }
   ],
   "source": [
    "oz = -h/2\n",
    "madagascar('y')\n",
    "u_m = np.loadtxt('dat.asc') * c**2 / h**3\n",
    "err = norm(u_m-u_gf)/norm(u_gf)*100.0\n",
    "print 'Error: %s %% -> shift h/2 downward' % err"
   ]
  },
  {
   "cell_type": "code",
   "execution_count": 24,
   "metadata": {
    "collapsed": false
   },
   "outputs": [
    {
     "name": "stdout",
     "output_type": "stream",
     "text": [
      "sfmath > vel.rsf output=4000.0 n1=100 n2=200 n3=200 d1=10.0 d2=10.0 d3=10.0 o2=-500 o3=-500 o1=0.0\n",
      "sfawefd3d < impulse.rsf vel=vel.rsf sou=sou.rsf rec=rec.rsf > dat.rsf verb=y free=y expl=n snap=y dabc=y jdata=1 jsnap=80000 nbell=1 sinc=y\n",
      "Error: 24.2074314133 % -> no shift\n"
     ]
    }
   ],
   "source": [
    "oz = 0.0\n",
    "madagascar('y')\n",
    "u_m = np.loadtxt('dat.asc') * c**2 / h**3\n",
    "err = norm(u_m-u_gf)/norm(u_gf)*100.0\n",
    "print 'Error: %s %% -> no shift' % err"
   ]
  },
  {
   "cell_type": "code",
   "execution_count": null,
   "metadata": {
    "collapsed": true
   },
   "outputs": [],
   "source": []
  }
 ],
 "metadata": {
  "kernelspec": {
   "display_name": "Python 2",
   "language": "python",
   "name": "python2"
  },
  "language_info": {
   "codemirror_mode": {
    "name": "ipython",
    "version": 2
   },
   "file_extension": ".py",
   "mimetype": "text/x-python",
   "name": "python",
   "nbconvert_exporter": "python",
   "pygments_lexer": "ipython2",
   "version": "2.7.11"
  }
 },
 "nbformat": 4,
 "nbformat_minor": 0
}
